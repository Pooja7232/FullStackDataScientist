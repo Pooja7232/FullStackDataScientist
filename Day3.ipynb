{
 "cells": [
  {
   "cell_type": "code",
   "execution_count": null,
   "id": "2c19e1ee",
   "metadata": {},
   "outputs": [
    {
     "name": "stdout",
     "output_type": "stream",
     "text": [
      "[2, 3, 5, 7, 11, 13, 17, 19]\n"
     ]
    }
   ],
   "source": [
    "#1.Prime Numbers Finder\n",
    "n= int(input())\n",
    "l=[]\n",
    "def is_prime(num):\n",
    "    if num <= 1:\n",
    "        return False\n",
    "    for i in range(2, int(num**0.5) + 1):\n",
    "        if num % i == 0:\n",
    "            return False\n",
    "    return True\n",
    "for num in range(n+1):\n",
    "    if is_prime(num):\n",
    "        l.append(num)\n",
    "print(l)\n"
   ]
  },
  {
   "cell_type": "code",
   "execution_count": null,
   "id": "cf973728",
   "metadata": {},
   "outputs": [
    {
     "name": "stdout",
     "output_type": "stream",
     "text": [
      "True\n"
     ]
    }
   ],
   "source": [
    "#2.Palindrome Checker\n",
    "str=input()\n",
    "str.lower()\n",
    "str=str.replace(\" \",\"\")\n",
    "def palindrome(str):\n",
    "    n=len(str)\n",
    "    found=True\n",
    "    for i in range(1,n//2):\n",
    "        if(str[i]!=str[n-i-1]):\n",
    "            found=False\n",
    "            break\n",
    "    return found\n",
    "if(palindrome(str)):\n",
    "    print(\"True\")\n",
    "else:\n",
    "    print(\"False\")\n"
   ]
  },
  {
   "cell_type": "code",
   "execution_count": null,
   "id": "fafff681",
   "metadata": {},
   "outputs": [
    {
     "name": "stdout",
     "output_type": "stream",
     "text": [
      "True\n"
     ]
    }
   ],
   "source": [
    "#3.Anagram Checker\n",
    "str1=input()\n",
    "str2=input()\n",
    "str1.lower()\n",
    "str2.lower()\n",
    "def are_anagrams(str1,str2):\n",
    "    if(len(str1)!=len(str2)):\n",
    "        return False\n",
    "    else:\n",
    "        s1=''.join(sorted(str1))\n",
    "        s2=''.join(sorted(str2))\n",
    "        if(s1==s2):\n",
    "            return True\n",
    "        else:\n",
    "            return False\n",
    "if(are_anagrams(str1,str2)):\n",
    "    print(\"True\")\n",
    "else:\n",
    "    print(\"False\")"
   ]
  },
  {
   "cell_type": "code",
   "execution_count": null,
   "id": "30cadc8a",
   "metadata": {},
   "outputs": [
    {
     "name": "stdout",
     "output_type": "stream",
     "text": [
      "Vowels= 2\n",
      "consonants= 3\n"
     ]
    }
   ],
   "source": [
    "#4.Count Vowels and Consonants\n",
    "str=input()\n",
    "str.lower()\n",
    "def isVowel(ch):\n",
    "    if(ch=='a' or ch=='e' or ch=='i' or ch=='o' or ch=='u'):\n",
    "        return True\n",
    "    else:\n",
    "        return False\n",
    "vc=0\n",
    "cc=0\n",
    "for i in range(len(str)):\n",
    "    if(isVowel(str[i])):\n",
    "        vc=vc+1\n",
    "    else:\n",
    "        cc=cc+1\n",
    "print(\"Vowels=\",vc)\n",
    "print(\"consonants=\",cc)"
   ]
  },
  {
   "cell_type": "code",
   "execution_count": null,
   "id": "a7674b4a",
   "metadata": {},
   "outputs": [
    {
     "name": "stdout",
     "output_type": "stream",
     "text": [
      "amazing\n"
     ]
    }
   ],
   "source": [
    "#5.Longest Word Finder\n",
    "str=input()\n",
    "def longword(str):\n",
    "    s=str.split(\" \")\n",
    "    l=max(s,key=len)\n",
    "    return l\n",
    "print(longword(str))\n",
    "\n"
   ]
  },
  {
   "cell_type": "code",
   "execution_count": 2,
   "id": "312af5bc",
   "metadata": {},
   "outputs": [
    {
     "name": "stdout",
     "output_type": "stream",
     "text": [
      "zxST^=\n"
     ]
    }
   ],
   "source": [
    "#6.Random Password Generator\n",
    "import random \n",
    "import string\n",
    "length=int(input())\n",
    "ch=string.ascii_letters+string.digits+string.punctuation\n",
    "password=''.join(random.choice(ch) for i in range(length))\n",
    "print(password)"
   ]
  },
  {
   "cell_type": "code",
   "execution_count": null,
   "id": "ca6b63ba",
   "metadata": {},
   "outputs": [
    {
     "name": "stdout",
     "output_type": "stream",
     "text": [
      "n= 25\n",
      "Sqrt(n): 5.0\n",
      "factorial(n): 15511210043330985984000000\n",
      "Sin(n): -0.13235175009777303\n",
      "Cos(n): 0.9912028118634736\n"
     ]
    }
   ],
   "source": [
    "#7.Perform sqrt,factorial,sin,cos\n",
    "from math import sqrt,factorial,sin,cos\n",
    "n=int(input())\n",
    "print(\"n=\",n)\n",
    "print(\"Sqrt(n):\",sqrt(n))\n",
    "print(\"factorial(n):\",factorial(n))\n",
    "print(\"Sin(n):\",math.sin(n))\n",
    "print(\"Cos(n):\",math.cos(n))"
   ]
  },
  {
   "cell_type": "code",
   "execution_count": 5,
   "id": "8e0b87d2",
   "metadata": {},
   "outputs": [
    {
     "name": "stdout",
     "output_type": "stream",
     "text": [
      "{'This': 1, 'is': 1, 'the': 2, 'python': 1, 'script': 2}\n"
     ]
    }
   ],
   "source": [
    "#8.Word Frequency Counter\n",
    "from collections import Counter\n",
    "str=input()\n",
    "str.lower()\n",
    "c=[i.strip(\".,!?;:\\\"'()[]{}\") for i in str.split()]\n",
    "freq=dict(Counter(c))\n",
    "print(freq)"
   ]
  },
  {
   "cell_type": "code",
   "execution_count": 11,
   "id": "60a7b7f9",
   "metadata": {},
   "outputs": [
    {
     "name": "stdout",
     "output_type": "stream",
     "text": [
      "Weather: Sunny,Temperature: 27\n"
     ]
    }
   ],
   "source": [
    "#9.Weather Simulator\n",
    "import random\n",
    "weather=[\"Sunny\",\"Rainy\",\"CLoudy\",\"Snowy\",\"Stormy\",\"Windy\"]\n",
    "temp=random.randint(-5,40)\n",
    "print(\"Weather:\",random.choice(weather),end=\",\")\n",
    "print(\"Temperature:\",temp)"
   ]
  },
  {
   "cell_type": "code",
   "execution_count": 15,
   "id": "db6e753c",
   "metadata": {},
   "outputs": [
    {
     "name": "stdout",
     "output_type": "stream",
     "text": [
      "6\n",
      "5\n",
      "4\n",
      "3\n",
      "2\n",
      "1\n",
      "Time's Up!\n"
     ]
    }
   ],
   "source": [
    "#10.Timer Program\n",
    "import time\n",
    "n=int(input())\n",
    "def countdown(n):\n",
    "    while(n>0):\n",
    "        print(n)\n",
    "        time.sleep(1)\n",
    "        n=n-1\n",
    "    print(\"Time's Up!\")\n",
    "countdown(n)"
   ]
  },
  {
   "cell_type": "code",
   "execution_count": 18,
   "id": "d157ed8c",
   "metadata": {},
   "outputs": [
    {
     "name": "stdout",
     "output_type": "stream",
     "text": [
      "Balance: 120\n"
     ]
    }
   ],
   "source": [
    "#11.Bank Account Class\n",
    "class BankAccount:\n",
    "    def __init__(self,owner,balance):\n",
    "        self.owner=owner\n",
    "        self.balance=balance\n",
    "    def deposit_amount(self,amount):\n",
    "        self.balance=self.balance+amount\n",
    "    def withdraw_amount(self,amount):\n",
    "        if(amount>self.balance):\n",
    "            print(\"Insuffient Amount\")\n",
    "        else:\n",
    "            self.balance=self.balance-amount\n",
    "    def get_balance(self):\n",
    "        return self.balance\n",
    "acc=BankAccount(\"Pooja\",100)\n",
    "acc.deposit_amount(50)\n",
    "acc.withdraw_amount(30)\n",
    "print(\"Balance:\",acc.get_balance())"
   ]
  },
  {
   "cell_type": "code",
   "execution_count": 23,
   "id": "a5fa01ec",
   "metadata": {},
   "outputs": [
    {
     "name": "stdout",
     "output_type": "stream",
     "text": [
      "85.0\n",
      "95\n",
      "80\n"
     ]
    }
   ],
   "source": [
    "#12.Student Class with Average\n",
    "class Student:\n",
    "    def __init__(self,name,marks):\n",
    "        self.name=name\n",
    "        self.marks=marks\n",
    "    def get_average(self):\n",
    "        avg=sum(self.marks)/len(self.marks)\n",
    "        return avg\n",
    "    def add_mark(self,mark):\n",
    "        self.marks.append(mark)\n",
    "    def  highest_mark(self):\n",
    "        maxi=max(self.marks)\n",
    "        return maxi\n",
    "    def lowest_mark(self):\n",
    "        mini=min(self.marks)\n",
    "        return mini\n",
    "s=Student(\"Tom\",[90,80,85])\n",
    "print(s.get_average())\n",
    "s.add_mark(95)\n",
    "print(s.highest_mark())\n",
    "print(s.lowest_mark())"
   ]
  },
  {
   "cell_type": "code",
   "execution_count": null,
   "id": "99e1da35",
   "metadata": {},
   "outputs": [
    {
     "name": "stdout",
     "output_type": "stream",
     "text": [
      "10000.0\n"
     ]
    }
   ],
   "source": [
    "#13.Employee Bonus System\n",
    "class Employee:\n",
    "    def __init__(self,name,salary):\n",
    "        self.name=name\n",
    "        self.salary=salary\n",
    "    def bonus(self):\n",
    "        return 0\n",
    "class Manager(Employee):\n",
    "    def bonus(self):\n",
    "        return 0.20*self.salary\n",
    "class Developer(Employee):\n",
    "    def bonus(self):\n",
    "        return 0.10*self.salary\n",
    "class Intern(Employee):\n",
    "    def bonus(self):\n",
    "        return 0.05*self.salary\n",
    "m=Manager(\"Alice\",50000)\n",
    "print(m.bonus())"
   ]
  },
  {
   "cell_type": "code",
   "execution_count": 41,
   "id": "3d75e41c",
   "metadata": {},
   "outputs": [
    {
     "name": "stdout",
     "output_type": "stream",
     "text": [
      "153.94\n",
      "20\n"
     ]
    }
   ],
   "source": [
    "#14.Shape Area Calculator\n",
    "from math import pi\n",
    "class Shape:\n",
    "    def __init__(self,name):\n",
    "        self.name=name\n",
    "    def area(self):\n",
    "        return 0\n",
    "class Circle(Shape):\n",
    "    def __init__(self,radius):\n",
    "        super().__init__(\"Circle\")\n",
    "        self.radius=radius\n",
    "    def area(self):\n",
    "        return round(pi*self.radius*self.radius,2)\n",
    "class Rectangle(Shape):\n",
    "    def __init__(self,width,height):\n",
    "        super().__init__(\"Rectangle\")\n",
    "        self.width=width\n",
    "        self.height=height\n",
    "    def area(self):\n",
    "        return self.width*self.height\n",
    "c=Circle(7)\n",
    "print(c.area())\n",
    "r=Rectangle(4,5)\n",
    "print(r.area())"
   ]
  },
  {
   "cell_type": "code",
   "execution_count": 43,
   "id": "4ac6d783",
   "metadata": {},
   "outputs": [
    {
     "name": "stdout",
     "output_type": "stream",
     "text": [
      "Total: 2000\n"
     ]
    }
   ],
   "source": [
    "#15.E-commerce Order Class\n",
    "class Ecommerce:\n",
    "    def __init__(self):\n",
    "        self.items={}\n",
    "    def add(self,item,price):\n",
    "        self.items[item]=price\n",
    "    def remove(self,item):\n",
    "        if(item in self.items):\n",
    "            del self.items[item]\n",
    "    def calculate_total(self):\n",
    "        return sum(self.items.values())\n",
    "    def show(self):\n",
    "        if not self.items:\n",
    "            print(\"No items in the cart.\")\n",
    "        else:\n",
    "            for item,price in self.items.items():\n",
    "                print(f\"{item}:₹{price}\")\n",
    "order = Ecommerce()\n",
    "order.add(\"Shirt\", 500)\n",
    "order.add(\"Shoes\", 1500)\n",
    "#order.show()\n",
    "print(\"Total:\", order.calculate_total())\n"
   ]
  },
  {
   "cell_type": "code",
   "execution_count": 44,
   "id": "11196ede",
   "metadata": {},
   "outputs": [
    {
     "name": "stdout",
     "output_type": "stream",
     "text": [
      "[0, 1, 1, 2, 3, 5, 8]\n"
     ]
    }
   ],
   "source": [
    "#16.Fibonacci Generator\n",
    "def fibonacci(n):\n",
    "    seq=[0, 1]\n",
    "    while len(seq)<n:\n",
    "        seq.append(seq[-1]+seq[-2])\n",
    "    return seq[:n]\n",
    "print(fibonacci(7))"
   ]
  },
  {
   "cell_type": "code",
   "execution_count": 45,
   "id": "4ec5f63f",
   "metadata": {},
   "outputs": [
    {
     "data": {
      "text/plain": [
       "120"
      ]
     },
     "execution_count": 45,
     "metadata": {},
     "output_type": "execute_result"
    }
   ],
   "source": [
    "#17.Factorial Using Recursion\n",
    "def fact(n):\n",
    "    if(n==0 or n==1):\n",
    "        return 1\n",
    "    else:\n",
    "        return n*fact(n-1)\n",
    "fact(5)"
   ]
  },
  {
   "cell_type": "code",
   "execution_count": 49,
   "id": "78766555",
   "metadata": {},
   "outputs": [
    {
     "name": "stdout",
     "output_type": "stream",
     "text": [
      "{'apple': 2, 'banana': 2, 'orange': 1}\n"
     ]
    }
   ],
   "source": [
    "#18.Unique Words Counter\n",
    "from collections import Counter\n",
    "str=input()\n",
    "str.lower()\n",
    "c=[i.strip(\":,.'!?;\") for i in str.split(\" \")]\n",
    "freq=Counter(c)\n",
    "print(dict(freq))"
   ]
  },
  {
   "cell_type": "code",
   "execution_count": 50,
   "id": "7772b970",
   "metadata": {},
   "outputs": [
    {
     "data": {
      "text/plain": [
       "'Grade B'"
      ]
     },
     "execution_count": 50,
     "metadata": {},
     "output_type": "execute_result"
    }
   ],
   "source": [
    "#19.Grade Calculator\n",
    "def grade_calculator(l):\n",
    "    avg=sum(l)/len(l)\n",
    "    if(avg>90 and avg<=100):\n",
    "        return \"Grade A\"\n",
    "    elif(avg>80 and avg<=90):\n",
    "        return \"Grade B\"\n",
    "    elif(avg>70 and avg<=80):\n",
    "        return \"Grade C\"\n",
    "    elif(avg<70):\n",
    "        return \"Fail\"\n",
    "    else:\n",
    "        return \"Invalid Marks\"\n",
    "grade_calculator([85,90,78])"
   ]
  },
  {
   "cell_type": "code",
   "execution_count": 54,
   "id": "02ea2526",
   "metadata": {},
   "outputs": [
    {
     "data": {
      "text/plain": [
       "10"
      ]
     },
     "execution_count": 54,
     "metadata": {},
     "output_type": "execute_result"
    }
   ],
   "source": [
    "#20.Second Largest Number\n",
    "def second_largest_num(l):\n",
    "    m=sorted(l)\n",
    "    return m[(len(l)-2)]\n",
    "second_largest_num([10, 5, 20, 8])"
   ]
  },
  {
   "cell_type": "code",
   "execution_count": 59,
   "id": "e7d58eb2",
   "metadata": {},
   "outputs": [
    {
     "name": "stdout",
     "output_type": "stream",
     "text": [
      "txt file: 2\n",
      "pytho files: 2\n"
     ]
    }
   ],
   "source": [
    "#21.Count Files By Extension\n",
    "import os\n",
    "def fileCounter(l):\n",
    "    t=0\n",
    "    p=0\n",
    "    for i in l:\n",
    "        if(i.endswith(\".txt\")):\n",
    "            t=t+1\n",
    "        elif(i.endswith(\".py\")):\n",
    "            p=p+1\n",
    "        else:\n",
    "            continue\n",
    "    print(\"txt file:\",t)\n",
    "    print(\"pytho files:\",p)\n",
    "fileCounter([\"notes.txt\",\"app.py\",\"data.csv\",\"report.txt\",\"main.py\"])"
   ]
  },
  {
   "cell_type": "code",
   "execution_count": 66,
   "id": "4397679b",
   "metadata": {},
   "outputs": [
    {
     "name": "stdout",
     "output_type": "stream",
     "text": [
      "Mean: 87.86\n",
      "Median: 90\n",
      "Variance: 73.81\n"
     ]
    }
   ],
   "source": [
    "#22.'statistics'->Exam Score Analysis(Mean,Median,Variance)\n",
    "from statistics import mean,median,variance\n",
    "scores=[75, 80, 90, 100, 85, 90, 95]\n",
    "Mean=round(mean(scores),2)\n",
    "Median=median(scores)\n",
    "Variance=round(variance(scores),2)\n",
    "print(\"Mean:\",Mean)\n",
    "print(\"Median:\",Median)\n",
    "print(\"Variance:\",Variance)"
   ]
  },
  {
   "cell_type": "code",
   "execution_count": 69,
   "id": "f20bfbbe",
   "metadata": {},
   "outputs": [
    {
     "name": "stdout",
     "output_type": "stream",
     "text": [
      "Roots are: (2.0, 1.0)\n"
     ]
    }
   ],
   "source": [
    "#23.Quadratic Equation Solver\n",
    "import math\n",
    "def quadratic(a,b,c):\n",
    "    d=b*b-4*a*c\n",
    "    if d<0:\n",
    "        return \"No real roots\"\n",
    "    root1=(-b+math.sqrt(d))/(2*a)\n",
    "    root2=(-b-math.sqrt(d))/(2*a)\n",
    "    return root1,root2\n",
    "print(\"Roots are:\",quadratic(1,-3,2))"
   ]
  },
  {
   "cell_type": "code",
   "execution_count": 73,
   "id": "c2893288",
   "metadata": {},
   "outputs": [
    {
     "name": "stdout",
     "output_type": "stream",
     "text": [
      "You chose Rock, Computer chose Scissors\n",
      "You Win!\n"
     ]
    }
   ],
   "source": [
    "#24.Rock Paper Scissor Game\n",
    "import random\n",
    "def rps(user):\n",
    "    options=[\"Rock\",\"Paper\",\"Scissors\"]\n",
    "    comp=random.choice(options)\n",
    "    print(f\"You chose {user}, Computer chose {comp}\")\n",
    "    if user==comp:\n",
    "        return \"It's a tie!\"\n",
    "    elif (user==\"Rock\" and comp==\"Scissors\") or \\\n",
    "         (user==\"Scissors\" and comp==\"Paper\") or \\\n",
    "         (user==\"Paper\" and comp==\"Rock\"):\n",
    "        return \"You Win!\"\n",
    "    else:\n",
    "        return \"You Lose!\"\n",
    "print(rps(\"Rock\"))"
   ]
  },
  {
   "cell_type": "code",
   "execution_count": 74,
   "id": "f4f30feb",
   "metadata": {},
   "outputs": [],
   "source": [
    "#25.Sum from command Line\n",
    "import sys\n",
    "def add_numbers():\n",
    "    args=sys.argv[1:]\n",
    "    nums=list(map(int,args))\n",
    "    print(\"Sum=\",sum(nums))"
   ]
  },
  {
   "cell_type": "code",
   "execution_count": 75,
   "id": "5fdb926d",
   "metadata": {},
   "outputs": [
    {
     "name": "stdout",
     "output_type": "stream",
     "text": [
      "You borrowed Python 101\n",
      "You returned Python 101\n",
      "Available books: {'Python 101': 3, 'Data Science': 2}\n"
     ]
    }
   ],
   "source": [
    "#26.Library System\n",
    "class Library:\n",
    "    def __init__(self,books):\n",
    "        self.books=books\n",
    "    def borrow(self,title):\n",
    "        if title in self.books and self.books[title] > 0:\n",
    "            self.books[title]-=1\n",
    "            return f\"You borrowed {title}\"\n",
    "        return f\"{title} not available\"\n",
    "    def return_book(self,title):\n",
    "        if title in self.books:\n",
    "            self.books[title]+=1\n",
    "            return f\"You returned {title}\"\n",
    "        return f\"{title} not in library\"\n",
    "    def show_books(self):\n",
    "        print(\"Available books:\", self.books)\n",
    "lib = Library({\"Python 101\":3,\"Data Science\":2})\n",
    "print(lib.borrow(\"Python 101\"))\n",
    "print(lib.return_book(\"Python 101\"))\n",
    "lib.show_books()"
   ]
  },
  {
   "cell_type": "code",
   "execution_count": 76,
   "id": "3c5cd921",
   "metadata": {},
   "outputs": [
    {
     "name": "stdout",
     "output_type": "stream",
     "text": [
      "Access Granted\n",
      "Deposited 200\n",
      "Withdrew 100\n",
      "Balance: 600\n"
     ]
    }
   ],
   "source": [
    "#27.ATM Machine with PIN\n",
    "class ATM:\n",
    "    def __init__(self,pin,balance):\n",
    "        self.pin=pin\n",
    "        self.balance=balance\n",
    "        self.is_authenticated=False\n",
    "    def login(self,pin):\n",
    "        if pin==self.pin:\n",
    "            self.is_authenticated=True\n",
    "            return \"Access Granted\"\n",
    "        return \"Wrong PIN\"\n",
    "    def check_balance(self):\n",
    "        if self.is_authenticated:\n",
    "            return f\"Balance: {self.balance}\"\n",
    "    def deposit(self,amount):\n",
    "        if self.is_authenticated:\n",
    "            self.balance+=amount\n",
    "            return f\"Deposited {amount}\"\n",
    "    def withdraw(self,amount):\n",
    "        if self.is_authenticated:\n",
    "            if amount>self.balance:\n",
    "                return \"Insufficient funds\"\n",
    "            self.balance-=amount\n",
    "            return f\"Withdrew {amount}\"\n",
    "atm = ATM(1234,500)\n",
    "print(atm.login(1234))\n",
    "print(atm.deposit(200))\n",
    "print(atm.withdraw(100))\n",
    "print(atm.check_balance())"
   ]
  },
  {
   "cell_type": "code",
   "execution_count": 77,
   "id": "672911f3",
   "metadata": {},
   "outputs": [
    {
     "name": "stdout",
     "output_type": "stream",
     "text": [
      "Dr. Smith is teaching Python\n",
      "Alice enrolled in Python\n",
      "Dr. Smith assigned: Project 1\n",
      "Alice submitted: Project 1\n"
     ]
    }
   ],
   "source": [
    "#28.University Sytem\n",
    "class Professor:\n",
    "    def __init__(self,name,subject):\n",
    "        self.name=name\n",
    "        self.subject=subject\n",
    "    def teach(self,course):\n",
    "        return f\"{self.name} is teaching {course}\"\n",
    "    def give_assignment(self,task):\n",
    "        return f\"{self.name} assigned: {task}\"\n",
    "class Student:\n",
    "    def __init__(self,name):\n",
    "        self.name=name\n",
    "        self.courses=[]\n",
    "        self.assignments=[]\n",
    "    def enroll(self,course):\n",
    "        self.courses.append(course)\n",
    "        return f\"{self.name} enrolled in {course}\"\n",
    "    def submit_assignment(self,task):\n",
    "        self.assignments.append(task)\n",
    "        return f\"{self.name} submitted: {task}\"\n",
    "prof = Professor(\"Dr. Smith\", \"Computer Science\")\n",
    "stud = Student(\"Alice\")\n",
    "print(prof.teach(\"Python\"))\n",
    "print(stud.enroll(\"Python\"))\n",
    "print(prof.give_assignment(\"Project 1\"))\n",
    "print(stud.submit_assignment(\"Project 1\"))"
   ]
  },
  {
   "cell_type": "code",
   "execution_count": 78,
   "id": "cf5fad15",
   "metadata": {},
   "outputs": [
    {
     "name": "stdout",
     "output_type": "stream",
     "text": [
      "Booked 2 tickets for Avatar\n",
      "Cancelled 1 ticket for Avatar\n",
      "Movies: {'Avatar': 9, 'Batman': 5}\n"
     ]
    }
   ],
   "source": [
    "#29.Movie Ticket Booking\n",
    "class Cinema:\n",
    "    def __init__(self,movies):\n",
    "        self.movies=movies\n",
    "    def book(self,movie,seats):\n",
    "        if(movie in self.movies and self.movies[movie]>=seats):\n",
    "            self.movies[movie]-=seats\n",
    "            return f\"Booked {seats} tickets for {movie}\"\n",
    "        return \"Not enough seats\"\n",
    "    def cancel(self,movie,seats):\n",
    "        if(movie in self.movies):\n",
    "            self.movies[movie]+=seats\n",
    "            return f\"Cancelled {seats} ticket for {movie}\"\n",
    "    def show_movies(self):\n",
    "        print(\"Movies:\",self.movies)\n",
    "cinema = Cinema({\"Avatar\":10,\"Batman\":5})\n",
    "print(cinema.book(\"Avatar\",2))\n",
    "print(cinema.cancel(\"Avatar\",1))\n",
    "cinema.show_movies()"
   ]
  },
  {
   "cell_type": "code",
   "execution_count": 79,
   "id": "d757d4f2",
   "metadata": {},
   "outputs": [
    {
     "name": "stdout",
     "output_type": "stream",
     "text": [
      "Burger added\n",
      "Pizza added\n",
      "Pizza price updated to 250\n",
      "Burger removed\n",
      "Menu: {'Pizza': 250}\n"
     ]
    }
   ],
   "source": [
    "#30.Restaurant Menu\n",
    "class Menu:\n",
    "    def __init__(self):\n",
    "        self.items={}\n",
    "    def add_item(self,name,price):\n",
    "        self.items[name]=price\n",
    "        return f\"{name} added\"\n",
    "    def remove_item(self,name):\n",
    "        if name in self.items:\n",
    "            del self.items[name]\n",
    "            return f\"{name} removed\"\n",
    "    def update_price(self,name,new_price):\n",
    "        if name in self.items:\n",
    "            self.items[name]=new_price\n",
    "            return f\"{name} price updated to {new_price}\"\n",
    "    def show_menu(self):\n",
    "        print(\"Menu:\", self.items)\n",
    "menu=Menu()\n",
    "print(menu.add_item(\"Burger\",100))\n",
    "print(menu.add_item(\"Pizza\",200))\n",
    "print(menu.update_price(\"Pizza\",250))\n",
    "print(menu.remove_item(\"Burger\"))\n",
    "menu.show_menu()"
   ]
  }
 ],
 "metadata": {
  "kernelspec": {
   "display_name": "Python 3",
   "language": "python",
   "name": "python3"
  },
  "language_info": {
   "codemirror_mode": {
    "name": "ipython",
    "version": 3
   },
   "file_extension": ".py",
   "mimetype": "text/x-python",
   "name": "python",
   "nbconvert_exporter": "python",
   "pygments_lexer": "ipython3",
   "version": "3.11.13"
  }
 },
 "nbformat": 4,
 "nbformat_minor": 5
}
