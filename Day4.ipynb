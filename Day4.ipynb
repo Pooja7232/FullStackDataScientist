{
 "cells": [
  {
   "cell_type": "code",
   "execution_count": 8,
   "id": "4d9537c1",
   "metadata": {},
   "outputs": [
    {
     "name": "stdout",
     "output_type": "stream",
     "text": [
      "9\n"
     ]
    }
   ],
   "source": [
    "#1.Count No.of Words in a Text File\n",
    "import io\n",
    "f=open(\"file1.txt\",\"r\")\n",
    "words=f.read()\n",
    "c=1\n",
    "for i in words:\n",
    "    if i==\" \":\n",
    "        c=c+1\n",
    "print(c)"
   ]
  },
  {
   "cell_type": "code",
   "execution_count": 2,
   "id": "bc133450",
   "metadata": {},
   "outputs": [
    {
     "name": "stdout",
     "output_type": "stream",
     "text": [
      "Strong password\n"
     ]
    }
   ],
   "source": [
    "#2.Check if a password is stron(at least 8 characters,contains uppercase, lowercase, digit, and special char).\n",
    "password=input()\n",
    "def check_password(password):\n",
    "    if(len(password)<8):\n",
    "        print(\"Invalid Password\")\n",
    "    else:\n",
    "        has_upper=any(ch.isupper() for ch in password)\n",
    "        has_lower=any(ch.islower() for ch in password)\n",
    "        has_digit=any(ch.isdigit() for ch in password)\n",
    "        has_special=any(not ch.isalnum() for ch in password)\n",
    "    return has_upper and has_lower and has_digit and has_special\n",
    "if check_password(password):\n",
    "    print(\"Strong password\")\n",
    "else:\n",
    "    print(\"Weak password\")"
   ]
  },
  {
   "cell_type": "code",
   "execution_count": 18,
   "id": "3cacc7c4",
   "metadata": {},
   "outputs": [
    {
     "name": "stdout",
     "output_type": "stream",
     "text": [
      "ArithmeticError\n"
     ]
    }
   ],
   "source": [
    "#3.Calculator Program\n",
    "class Calculator:\n",
    "    def __init__(self,ch,n1,n2):\n",
    "        self.ch=ch\n",
    "        self.n1=n1\n",
    "        self.n2=n2\n",
    "    def display(self):\n",
    "        if(self.ch=='+'):\n",
    "            print(\"Sum is:\",(self.n1+self.n2))\n",
    "        elif(self.ch=='-'):\n",
    "            print(\"Difference is:\",(self.n1-self.n2))\n",
    "        elif(self.ch=='*'):\n",
    "            print(\"Product is:\",(self.n1*self.n2))\n",
    "        elif(self.ch=='/'):\n",
    "            try:\n",
    "                n3=self.n1/self.n2\n",
    "            except:\n",
    "                print(\"ArithmeticError\")\n",
    "            else:\n",
    "                print(\"Division is:\",n3)\n",
    "        else:\n",
    "            print(\"Invalid Character\")\n",
    "c=input(\"Enter character:\")\n",
    "x=int(input(\"Enter first Number:\"))\n",
    "y=int(input(\"Enter Second Number:\"))\n",
    "calc=Calculator(c,x,y)\n",
    "calc.display()"
   ]
  },
  {
   "cell_type": "code",
   "execution_count": 28,
   "id": "15d50754",
   "metadata": {},
   "outputs": [
    {
     "name": "stdout",
     "output_type": "stream",
     "text": [
      "Duplicates are: ['Dharani', 'Pooja', 'Sri']\n"
     ]
    }
   ],
   "source": [
    "#4.Given a list of student names, find duplicates.\n",
    "class Student:\n",
    "    def __init__(self,names):\n",
    "        self.names=sorted(names)\n",
    "    def display(self):\n",
    "        c=0\n",
    "        dupl=set()\n",
    "        for i in range(len(self.names)-1):\n",
    "            if(self.names[i]==self.names[i+1]):\n",
    "                dupl.add(self.names[i])\n",
    "        print(\"Duplicates are:\",list(dupl))\n",
    "stu=Student([\"Pooja\",\"Sri\",\"Pooja\",\"Dharani\",\"Dharani\",\"Sri\",\"Neha\",\"Keerthi\"])\n",
    "stu.display()"
   ]
  },
  {
   "cell_type": "code",
   "execution_count": 58,
   "id": "dfecb4ab",
   "metadata": {},
   "outputs": [
    {
     "name": "stdout",
     "output_type": "stream",
     "text": [
      "Celsius to Fahreinheit= 89.6\n",
      "Fahrenheit to Celsius= 14.222222222222221\n"
     ]
    }
   ],
   "source": [
    "#5.Convert between Celsius and Fahrenheit.\n",
    "temp=int(input())\n",
    "c_to_f=(temp*(9/5)+32)\n",
    "f_to_c=(temp-32*(5/9))\n",
    "print(\"Celsius to Fahreinheit=\",c_to_f)\n",
    "print(\"Fahrenheit to Celsius=\",f_to_c)"
   ]
  },
  {
   "cell_type": "code",
   "execution_count": null,
   "id": "17c0dcd4",
   "metadata": {},
   "outputs": [
    {
     "name": "stdout",
     "output_type": "stream",
     "text": [
      "100\n"
     ]
    }
   ],
   "source": [
    "#6.Find the largest number from a list of integers.([29,89,76,54,34,90,99,100])\n",
    "list=list(map(int,input().split()))\n",
    "print(max(list))"
   ]
  },
  {
   "cell_type": "code",
   "execution_count": 30,
   "id": "92fef8ce",
   "metadata": {},
   "outputs": [
    {
     "name": "stdout",
     "output_type": "stream",
     "text": [
      "2400.0\n"
     ]
    }
   ],
   "source": [
    "#7.Calculate Simple Interest.\n",
    "principal=int(input(\"Enter Princial Amount\"))\n",
    "time=int(input(\"Enter Time\"))\n",
    "rate=int(input(\"Enter Rate\"))\n",
    "si=(principal*time*rate)/100\n",
    "print(si)"
   ]
  },
  {
   "cell_type": "code",
   "execution_count": 3,
   "id": "5d9d11de",
   "metadata": {},
   "outputs": [
    {
     "name": "stdout",
     "output_type": "stream",
     "text": [
      "['Pooja', 'Akshaya', 'Sruthi']\n"
     ]
    }
   ],
   "source": [
    "#8.Given a dictionary of student names and attendance %, find defaulters (<75%)\n",
    "stu={\"Pooja\":67,\"Keerthi\":90,\"Dharani\":80,\"Neha\":89,\"Chandana\":75,\"Akshaya\":72,\"Sruthi\":61}\n",
    "list=[]\n",
    "for  key,value in stu.items():\n",
    "    if(value<75):\n",
    "        list.append(key)\n",
    "print(list)"
   ]
  },
  {
   "cell_type": "code",
   "execution_count": 36,
   "id": "41769d92",
   "metadata": {},
   "outputs": [
    {
     "name": "stdout",
     "output_type": "stream",
     "text": [
      "10\n"
     ]
    }
   ],
   "source": [
    "#9.Input: 1234 → Output: 10\n",
    "n=int(input())\n",
    "b=0\n",
    "while(n>0):\n",
    "    rem=n%10\n",
    "    b=b+rem\n",
    "    n=n//10\n",
    "print(b)"
   ]
  },
  {
   "cell_type": "code",
   "execution_count": 43,
   "id": "dcdf3cfe",
   "metadata": {},
   "outputs": [
    {
     "name": "stdout",
     "output_type": "stream",
     "text": [
      "Not Prime\n"
     ]
    }
   ],
   "source": [
    "#10.Write a function to check if a number is prime.\n",
    "n=int(input())\n",
    "def isprime(n):\n",
    "    c=0\n",
    "    for i in range(1,n+1):\n",
    "        if(n%i==0):\n",
    "            c=c+1\n",
    "        else:\n",
    "            continue\n",
    "    if(c==2):\n",
    "        return True\n",
    "    else:\n",
    "        return False\n",
    "if(isprime(n)):\n",
    "    print(\"Prime\")\n",
    "else:\n",
    "    print(\"Not Prime\")"
   ]
  },
  {
   "cell_type": "code",
   "execution_count": 46,
   "id": "dba11d6b",
   "metadata": {},
   "outputs": [
    {
     "name": "stdout",
     "output_type": "stream",
     "text": [
      "Maximum ele: 106\n",
      "Minimum ele: 34\n"
     ]
    }
   ],
   "source": [
    "#11.Find smallest and largest numbers.\n",
    "l=[34,56,45,100,97,86,70,106]\n",
    "print(\"Maximum ele:\",max(l))\n",
    "print(\"Minimum ele:\",min(l))"
   ]
  },
  {
   "cell_type": "code",
   "execution_count": 59,
   "id": "c84e608c",
   "metadata": {},
   "outputs": [
    {
     "name": "stdout",
     "output_type": "stream",
     "text": [
      "534\n"
     ]
    }
   ],
   "source": [
    "#12.Given items with prices in a dictionary, calculate total bill\n",
    "product={\"Milk\":67,\"Sugar\":90,\"Bread\":80,\"TeaPowder\":89,\"Soap\":75,\"Turmeric\":72,\"Shampoo\":61}\n",
    "total_cost=0\n",
    "for key,value in product.items():\n",
    "    total_cost=total_cost+value\n",
    "print(total_cost)"
   ]
  },
  {
   "cell_type": "code",
   "execution_count": 61,
   "id": "3acd38f6",
   "metadata": {},
   "outputs": [
    {
     "name": "stdout",
     "output_type": "stream",
     "text": [
      "5\n"
     ]
    }
   ],
   "source": [
    "#13.Input 3 numbers, print the largest.\n",
    "a,b,c=map(int,input().split())\n",
    "max_ele=max(a,b,c)\n",
    "print(max_ele)"
   ]
  },
  {
   "cell_type": "code",
   "execution_count": 64,
   "id": "608f901d",
   "metadata": {},
   "outputs": [
    {
     "name": "stdout",
     "output_type": "stream",
     "text": [
      "Counter({' ': 3, 'd': 3, 'o': 2, 'e': 2, 'P': 1, 'j': 1, 'a': 1, 'S': 1, 'r': 1, 'i': 1, 'R': 1, 'y': 1, 'M': 1, 'n': 1, 'u': 1})\n"
     ]
    }
   ],
   "source": [
    "#14.Count how many times each character appears in a string.\n",
    "from collections import Counter\n",
    "str=input()\n",
    "freq=Counter(str)\n",
    "print(freq)"
   ]
  },
  {
   "cell_type": "code",
   "execution_count": 7,
   "id": "e30b129b",
   "metadata": {},
   "outputs": [
    {
     "name": "stdout",
     "output_type": "stream",
     "text": [
      "Total Bill= 1200\n"
     ]
    }
   ],
   "source": [
    "#15.Calculate electricity bill\n",
    "#First 100 units → ₹5/unit\n",
    "#Next 100 units → ₹7/unit\n",
    "#Above 200 units → ₹10/unit\n",
    "units=int(input())\n",
    "if(units<=100):\n",
    "    tot=units*5\n",
    "elif(units>100 and units<=200):\n",
    "    tot=(100*5)+(units-100)*7\n",
    "else:\n",
    "    tot=(100*5)+(100*7)+(units-200)*10\n",
    "print(\"Total Bill=\",tot)"
   ]
  },
  {
   "cell_type": "code",
   "execution_count": 4,
   "id": "0ad6767d",
   "metadata": {},
   "outputs": [
    {
     "name": "stdout",
     "output_type": "stream",
     "text": [
      "['Akshaya', 'Chandana', 'Dharani', 'Madhavi', 'Pooja', 'Sowmya', 'Sri', 'Sruthi']\n"
     ]
    }
   ],
   "source": [
    "#16.Sort a list of names in ascending order.\n",
    "names=[\"Pooja\",\"Sri\",\"Akshaya\",\"Dharani\",\"Madhavi\",\"Sowmya\",\"Sruthi\",\"Chandana\"]\n",
    "print(sorted(names))"
   ]
  },
  {
   "cell_type": "code",
   "execution_count": 6,
   "id": "ad6e0322",
   "metadata": {},
   "outputs": [
    {
     "name": "stdout",
     "output_type": "stream",
     "text": [
      "4321\n"
     ]
    }
   ],
   "source": [
    "#17.Reverse of a Number\n",
    "num=int(input())\n",
    "rev=0\n",
    "while(num>0):\n",
    "    rem=num%10\n",
    "    rev=rev*10+rem\n",
    "    num=num//10\n",
    "print(rev)"
   ]
  },
  {
   "cell_type": "code",
   "execution_count": 9,
   "id": "6f7afd4f",
   "metadata": {},
   "outputs": [
    {
     "name": "stdout",
     "output_type": "stream",
     "text": [
      "Negative Count: 5\n",
      "Positive Count: 4\n",
      "Zero Count: 1\n"
     ]
    }
   ],
   "source": [
    "#18.Given a list, count positive, negative, and zero numbers.\n",
    "l=[-2,9,0,-7,-5,-46,90,24,-60,63]\n",
    "nc=0\n",
    "pc=0\n",
    "zc=0\n",
    "for i in l:\n",
    "    if(i<0):\n",
    "        nc=nc+1\n",
    "    elif(i>0):\n",
    "        pc=pc+1\n",
    "    else:\n",
    "        zc=zc+1\n",
    "print(\"Negative Count:\",nc)\n",
    "print(\"Positive Count:\",pc)\n",
    "print(\"Zero Count:\",zc)"
   ]
  },
  {
   "cell_type": "code",
   "execution_count": 16,
   "id": "1b40b5d9",
   "metadata": {},
   "outputs": [
    {
     "name": "stdout",
     "output_type": "stream",
     "text": [
      "Wrong Pin and have {%d} attempts 2\n",
      "Wrong Pin and have {%d} attempts 1\n",
      "Wrong Pin and have {%d} attempts 0\n",
      "Account Locked,Too Many attempts\n"
     ]
    }
   ],
   "source": [
    "#19.User has 3 attempts to enter correct PIN\n",
    "correct_PIN=\"98765432\"\n",
    "PIN_entered=input()\n",
    "for i in range(3):\n",
    "    if(PIN_entered==correct_PIN):\n",
    "        print(\"Correct PIN Entered\")\n",
    "        break\n",
    "    else:\n",
    "        print(\"Wrong Pin and have {%d} attempts\",2-i)\n",
    "        PIN_entered=input()\n",
    "else:\n",
    "    print(\"Account Locked,Too Many attempts\")"
   ]
  },
  {
   "cell_type": "code",
   "execution_count": 18,
   "id": "452fd1a1",
   "metadata": {},
   "outputs": [
    {
     "name": "stdout",
     "output_type": "stream",
     "text": [
      "Divission: 1.8\n"
     ]
    }
   ],
   "source": [
    "#20.Write a program that asks for two numbers and divides them. Handle division by zero\n",
    "num1=int(input())\n",
    "num2=int(input())\n",
    "try:\n",
    "    num3=num1/num2\n",
    "except Exception as e:\n",
    "    print(e)\n",
    "else:\n",
    "    print(\"Divission:\",num3)"
   ]
  },
  {
   "cell_type": "code",
   "execution_count": 21,
   "id": "dbe88210",
   "metadata": {},
   "outputs": [
    {
     "name": "stdout",
     "output_type": "stream",
     "text": [
      "division by zero\n"
     ]
    }
   ],
   "source": [
    "#21.Write a program that handles both ValueError (invalid input) and ZeroDivisionError.\n",
    "num1=int(input())\n",
    "num2=int(input())\n",
    "try:\n",
    "    num3=num1/num2\n",
    "except ZeroDivisionError as e:\n",
    "    print(e)\n",
    "except ValueError as v:\n",
    "    print(v)\n",
    "else:\n",
    "    print(\"Divission:\",num3)"
   ]
  },
  {
   "cell_type": "code",
   "execution_count": 3,
   "id": "197c5697",
   "metadata": {},
   "outputs": [
    {
     "name": "stdout",
     "output_type": "stream",
     "text": [
      "Amount Insuffient Exception\n"
     ]
    }
   ],
   "source": [
    "#22.If withdrawal amount is greater than balance, raise an exception.\n",
    "balance=int(input())\n",
    "withdrawl_amount=int(input())\n",
    "try:\n",
    "    if(withdrawl_amount<balance):\n",
    "        print(\"Withdrawl Successful\")\n",
    "    else:\n",
    "        raise Exception\n",
    "except:\n",
    "    print(\"Amount Insuffient Exception\")"
   ]
  },
  {
   "cell_type": "code",
   "execution_count": 6,
   "id": "76fe9979",
   "metadata": {},
   "outputs": [
    {
     "name": "stdout",
     "output_type": "stream",
     "text": [
      "Invalid Input\n",
      "Bill processing Finished\n"
     ]
    }
   ],
   "source": [
    "#23.Calculate total price, handle invalid input, and always show \"Bill processing finished\".\n",
    "#• First 100 units → ₹5/unit\n",
    "#• Next 100 units → ₹7/unit\n",
    "#• Above 200 units → ₹10/unit\n",
    "units=int(input())\n",
    "try:\n",
    "    if(units<0):\n",
    "        raise Exception\n",
    "    else:\n",
    "        if(units<=100):\n",
    "            tot=units*5\n",
    "        elif(units>100 and units<=200):\n",
    "            tot=(100*5)+(units-100)*7\n",
    "        elif(units>200):\n",
    "            tot=(100*5)+(100*7)+(units-200)*10\n",
    "        print(\"Total Price=\",tot)\n",
    "except:\n",
    "    print(\"Invalid Input\")\n",
    "finally:\n",
    "    print(\"Bill processing Finished\")"
   ]
  }
 ],
 "metadata": {
  "kernelspec": {
   "display_name": "Python 3",
   "language": "python",
   "name": "python3"
  },
  "language_info": {
   "codemirror_mode": {
    "name": "ipython",
    "version": 3
   },
   "file_extension": ".py",
   "mimetype": "text/x-python",
   "name": "python",
   "nbconvert_exporter": "python",
   "pygments_lexer": "ipython3",
   "version": "3.11.13"
  }
 },
 "nbformat": 4,
 "nbformat_minor": 5
}
