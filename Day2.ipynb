{
 "cells": [
  {
   "cell_type": "code",
   "execution_count": null,
   "id": "a8e29bef",
   "metadata": {},
   "outputs": [
    {
     "name": "stdout",
     "output_type": "stream",
     "text": [
      "310\n"
     ]
    }
   ],
   "source": [
    "#1.total price\n",
    "p1,p2,p3=map(int,input().split())\n",
    "q1,q2,q3=map(int,input().split())\n",
    "tot=p1*q1+p2*q2+p3*q3\n",
    "print(tot)"
   ]
  },
  {
   "cell_type": "code",
   "execution_count": null,
   "id": "6c7c9386",
   "metadata": {},
   "outputs": [
    {
     "name": "stdout",
     "output_type": "stream",
     "text": [
      "Addition = 19\n",
      "Subtraction = 11\n",
      "Multiplication = 60\n",
      "Division = 3.75\n",
      "Modulus = 3\n"
     ]
    }
   ],
   "source": [
    "#2.Arithmetic Operations on two given numbers\n",
    "n1=int(input(\"Enter firsst number:\"))\n",
    "n2=int(input(\"Enter second number:\"))\n",
    "add=n1+n2\n",
    "sub=n1-n2\n",
    "mul=n1*n2\n",
    "div=n1/n2\n",
    "mod=n1%n2\n",
    "print(\"Addition =\",add)\n",
    "print(\"Subtraction =\",sub)\n",
    "print(\"Multiplication =\",mul)\n",
    "print(\"Division =\",div)\n",
    "print(\"Modulus =\",mod)"
   ]
  },
  {
   "cell_type": "code",
   "execution_count": null,
   "id": "202e6f91",
   "metadata": {},
   "outputs": [
    {
     "name": "stdout",
     "output_type": "stream",
     "text": [
      "A\n"
     ]
    }
   ],
   "source": [
    "#3.Displaying Grades based on marks given\n",
    "marks=int(input(\"Enter marks:\"))\n",
    "if(marks>=90):\n",
    "    print(\"A+\")\n",
    "elif(marks>=80 and marks<90):\n",
    "    print(\"A\")\n",
    "elif(marks>=70 and marks<80):\n",
    "    print(\"B\")\n",
    "elif(marks>=60 and marks<70):\n",
    "    print(\"C\")\n",
    "elif(marks<60):\n",
    "    print(\"Fail\")"
   ]
  },
  {
   "cell_type": "code",
   "execution_count": null,
   "id": "1a1acf9d",
   "metadata": {},
   "outputs": [
    {
     "name": "stdout",
     "output_type": "stream",
     "text": [
      "Highest Marks = 90\n",
      "Lowest Marks = 42\n",
      "Avg Marks = 59.2\n"
     ]
    }
   ],
   "source": [
    "#4.Calculating highest,lowest,avg marks among list of marks\n",
    "a=list(map(int,input(\"Marks:\").split()))\n",
    "mini=min(a)\n",
    "maxi=max(a)\n",
    "sum=0\n",
    "for i in range(0,len(a)):\n",
    "    sum=sum+a[i]\n",
    "avg=sum/len(a)\n",
    "print(\"Highest Marks =\",maxi)\n",
    "print(\"Lowest Marks =\",mini)\n",
    "print(\"Avg Marks =\",avg)"
   ]
  },
  {
   "cell_type": "code",
   "execution_count": null,
   "id": "f726ae38",
   "metadata": {},
   "outputs": [
    {
     "name": "stdout",
     "output_type": "stream",
     "text": [
      "Phone Number of Pooja  is: 9876543210\n"
     ]
    }
   ],
   "source": [
    "#5.Retreieving Phone Number using Name in dictionary\n",
    "n=int(input(\"Enter No.Of Contacts:\"))\n",
    "c={}\n",
    "for i in range(n):\n",
    "    pno=int(input(\"Enter Phone Numbers:\"))\n",
    "    name=input(\"Enter names:\")\n",
    "    c[name]=pno\n",
    "m=input()\n",
    "print(\"Phone Number of\",m,\" is:\",c.get(m,\"Not Found\"))"
   ]
  },
  {
   "cell_type": "code",
   "execution_count": 8,
   "id": "22c20ee5",
   "metadata": {},
   "outputs": [
    {
     "name": "stdout",
     "output_type": "stream",
     "text": [
      "Words= 3\n",
      "Characters= 16\n",
      "Vowels= 6\n"
     ]
    }
   ],
   "source": [
    "#6.Count of vowels, characters and words in a string given\n",
    "str=input()\n",
    "str.lower()\n",
    "wc=1\n",
    "ch=-1\n",
    "vc=0\n",
    "for i in str:\n",
    "    ch=ch+1\n",
    "    if(i==\" \"):\n",
    "        wc=wc+1\n",
    "    elif(i=='a'or i=='e' or i=='i' or i=='o' or i=='u'):\n",
    "        vc=vc+1\n",
    "    else:\n",
    "        continue\n",
    "print(\"Words=\",wc)\n",
    "print(\"Characters=\",ch)\n",
    "print(\"Vowels=\",vc)"
   ]
  },
  {
   "cell_type": "code",
   "execution_count": 10,
   "id": "a2209106",
   "metadata": {},
   "outputs": [
    {
     "name": "stdout",
     "output_type": "stream",
     "text": [
      "Compound Interest= 512.5\n",
      "Total Amount= 5512.5\n"
     ]
    }
   ],
   "source": [
    "#7.Calculating Simple/Compound Interest\n",
    "principal=int(input())\n",
    "rate=int(input())\n",
    "time=int(input())\n",
    "interest_type=input()\n",
    "rateperc=rate/100\n",
    "if(interest_type==\"Simple\"):\n",
    "    interest=(principal*time*rateperc)/100\n",
    "if(interest_type==\"Compound\"):\n",
    "    x=1+rateperc\n",
    "    interest=(principal*(x**time))-principal\n",
    "print(interest_type,\"Interest=\",interest)\n",
    "print(\"Total Amount=\",(principal+interest))"
   ]
  },
  {
   "cell_type": "code",
   "execution_count": 13,
   "id": "e5370aa8",
   "metadata": {},
   "outputs": [
    {
     "name": "stdout",
     "output_type": "stream",
     "text": [
      "KHOOR"
     ]
    }
   ],
   "source": [
    "#8.Implementation of Caesar Ciepher Encryption\n",
    "message=input()\n",
    "shift=int(input())\n",
    "for i in message:\n",
    "    ch=ord(i)+shift\n",
    "    print(chr(ch),end=\"\")"
   ]
  },
  {
   "cell_type": "code",
   "execution_count": 17,
   "id": "a501ceee",
   "metadata": {},
   "outputs": [
    {
     "name": "stdout",
     "output_type": "stream",
     "text": [
      "Pin Verified.\n",
      "Withdrawl Successful.Remaining Balance = 3000\n"
     ]
    }
   ],
   "source": [
    "#9.Building ATM\n",
    "pin=int(input())\n",
    "balance=int(input())\n",
    "withdrawl=int(input())\n",
    "if(pin!=0):\n",
    "    if(balance>withdrawl):\n",
    "        print(\"Pin Verified.\")\n",
    "        print(\"Withdrawl Successful.Remaining Balance =\",(balance-withdrawl))\n",
    "    else:\n",
    "        print(\"Pin Verified\")\n",
    "        print(\"Insufficient Balance\")\n",
    "else:\n",
    "    print(\"Invalid PIN\")"
   ]
  },
  {
   "cell_type": "code",
   "execution_count": 26,
   "id": "1a74f96f",
   "metadata": {},
   "outputs": [
    {
     "name": "stdout",
     "output_type": "stream",
     "text": [
      "['PB', 'AI', 'ML']\n"
     ]
    }
   ],
   "source": [
    "#10.List of books in library(adding,removing)\n",
    "books=list(input().split())\n",
    "add_book=input()\n",
    "remove_book=input()\n",
    "books.append(add_book)\n",
    "books.remove(remove_book)\n",
    "print(books)"
   ]
  }
 ],
 "metadata": {
  "kernelspec": {
   "display_name": "Python 3",
   "language": "python",
   "name": "python3"
  },
  "language_info": {
   "codemirror_mode": {
    "name": "ipython",
    "version": 3
   },
   "file_extension": ".py",
   "mimetype": "text/x-python",
   "name": "python",
   "nbconvert_exporter": "python",
   "pygments_lexer": "ipython3",
   "version": "3.11.13"
  }
 },
 "nbformat": 4,
 "nbformat_minor": 5
}
