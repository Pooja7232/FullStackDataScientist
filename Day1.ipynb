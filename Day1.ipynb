{
 "cells": [
  {
   "cell_type": "code",
   "execution_count": null,
   "id": "2e0d21c8",
   "metadata": {},
   "outputs": [
    {
     "name": "stdout",
     "output_type": "stream",
     "text": [
      "Before Swapping\n",
      "10\n",
      "20\n",
      "After Swapping\n",
      "20\n",
      "10\n"
     ]
    }
   ],
   "source": [
    "#1.Swap two numbers without using third variable\n",
    "a,b=map(int,input().split())\n",
    "print(\"Before Swapping\")\n",
    "print(a)\n",
    "print(b)\n",
    "a=a+b\n",
    "b=a-b\n",
    "a=a-b\n",
    "print(\"After Swapping\")\n",
    "print(a)\n",
    "print(b)"
   ]
  },
  {
   "cell_type": "code",
   "execution_count": null,
   "id": "69cd0c91",
   "metadata": {},
   "outputs": [
    {
     "name": "stdout",
     "output_type": "stream",
     "text": [
      "w\n",
      "e\n",
      "i\n",
      "v\n",
      " \n",
      "s\n",
      "k\n",
      "r\n",
      "a\n",
      "m\n"
     ]
    }
   ],
   "source": [
    "#2.Reverse of a string\n",
    "string=input()\n",
    "for i in range(len(string)-1,-1,-1):\n",
    "    print(string[i])"
   ]
  },
  {
   "cell_type": "code",
   "execution_count": null,
   "id": "6a5f2a84",
   "metadata": {},
   "outputs": [
    {
     "name": "stdout",
     "output_type": "stream",
     "text": [
      "True\n"
     ]
    }
   ],
   "source": [
    "#3.Check whether a number is armstrong or not\n",
    "a=int(input())\n",
    "c=a\n",
    "b=0\n",
    "while a>0:\n",
    "    rem=a%10\n",
    "    b=b+rem*rem*rem\n",
    "    a=a//10\n",
    "if(b==c):\n",
    "    print(\"True\")\n",
    "else:\n",
    "    print(\"False\")"
   ]
  },
  {
   "cell_type": "code",
   "execution_count": null,
   "id": "fc647218",
   "metadata": {},
   "outputs": [
    {
     "name": "stdout",
     "output_type": "stream",
     "text": [
      "Vowels Count: 3\n",
      "Consonants Count: 2\n"
     ]
    }
   ],
   "source": [
    "#4.Finding Vowels Count and Consonant Count from a given word\n",
    "str=input()\n",
    "str.lower()\n",
    "vc=0\n",
    "cc=0\n",
    "for i in range(0,len(str)):\n",
    "    if(str[i]=='a'or str[i]=='e' or str[i]=='i' or str[i]=='o' or str[i]=='u'):\n",
    "        vc=vc+1\n",
    "    else:\n",
    "        cc=cc+1\n",
    "print(\"Vowels Count:\",vc)\n",
    "print(\"Consonants Count:\",cc)"
   ]
  },
  {
   "cell_type": "code",
   "execution_count": null,
   "id": "c419089e",
   "metadata": {},
   "outputs": [
    {
     "name": "stdout",
     "output_type": "stream",
     "text": [
      "10  *  1  =  10\n",
      "10  *  2  =  20\n",
      "10  *  3  =  30\n",
      "10  *  4  =  40\n",
      "10  *  5  =  50\n",
      "10  *  6  =  60\n",
      "10  *  7  =  70\n",
      "10  *  8  =  80\n",
      "10  *  9  =  90\n",
      "10  *  10  =  100\n"
     ]
    }
   ],
   "source": [
    "#5.Printing Multiplication table of a given number\n",
    "a=int(input())\n",
    "for i in range(1,11):\n",
    "    print(a,\" * \",i,\" = \",a*i)"
   ]
  },
  {
   "cell_type": "code",
   "execution_count": null,
   "id": "ff0e9ff5",
   "metadata": {},
   "outputs": [
    {
     "name": "stdout",
     "output_type": "stream",
     "text": [
      "Leap Year\n"
     ]
    }
   ],
   "source": [
    "#6.Check whether a year is leap year or not\n",
    "year=int(input())\n",
    "if((year%4==0 and year%100!=0) or a%400==0):\n",
    "    print(\"Leap Year\")\n",
    "else:\n",
    "    print(\"Not a Leap Year\")"
   ]
  },
  {
   "cell_type": "code",
   "execution_count": null,
   "id": "a0f35e8b",
   "metadata": {},
   "outputs": [
    {
     "name": "stdout",
     "output_type": "stream",
     "text": [
      "5\n"
     ]
    }
   ],
   "source": [
    "#7.Largest element from 5 elements\n",
    "a,b,c,d,e=map(int,input().split())\n",
    "maxi=max(a,b,c,d,e)\n",
    "print(maxi)"
   ]
  },
  {
   "cell_type": "code",
   "execution_count": null,
   "id": "6aee7d35",
   "metadata": {},
   "outputs": [
    {
     "name": "stdout",
     "output_type": "stream",
     "text": [
      "Is Palindrome\n"
     ]
    }
   ],
   "source": [
    "#8.check whether a number is palindrome or not\n",
    "n=int(input())\n",
    "c=n\n",
    "b=0\n",
    "while n>0:\n",
    "    rem=n%10\n",
    "    b=b*10+rem\n",
    "    n=n//10\n",
    "if(c==b):\n",
    "    print(\"Is Palindrome\")\n",
    "else:\n",
    "    print(\"Is Not Palindrome\")\n"
   ]
  },
  {
   "cell_type": "code",
   "execution_count": null,
   "id": "ff5a9830",
   "metadata": {},
   "outputs": [
    {
     "name": "stdout",
     "output_type": "stream",
     "text": [
      "120\n"
     ]
    }
   ],
   "source": [
    "#9.Factorial of a given number\n",
    "n=int(input())\n",
    "fact=1\n",
    "if(n==0 or n==1):\n",
    "    fact=fact*1\n",
    "else:\n",
    "    for i in range(1,n+1):\n",
    "        fact=fact*i\n",
    "print(fact)"
   ]
  },
  {
   "cell_type": "code",
   "execution_count": null,
   "id": "64eaf4b7",
   "metadata": {},
   "outputs": [
    {
     "name": "stdout",
     "output_type": "stream",
     "text": [
      "15  is divisible by 3 and 5\n"
     ]
    }
   ],
   "source": [
    "#10.Check whether a number is divisible by 3 and 5\n",
    "n=int(input())\n",
    "if((n%3 and n%5)==0):\n",
    "    print(n,\" is divisible by 3 and 5\")\n",
    "else:\n",
    "    print(n,\" is not divisible by 3 and 5\")"
   ]
  },
  {
   "cell_type": "code",
   "execution_count": null,
   "id": "df047c27",
   "metadata": {},
   "outputs": [
    {
     "name": "stdout",
     "output_type": "stream",
     "text": [
      "2  is a prime number\n"
     ]
    }
   ],
   "source": [
    "#11.Check whether a number is prime or not\n",
    "n=int(input())\n",
    "c=0\n",
    "for i in range(1,n+1):\n",
    "    if(n%i==0):\n",
    "        c=c+1\n",
    "    else:\n",
    "        continue\n",
    "if(c<=2):\n",
    "    print(n,\" is a prime number\")\n",
    "else:\n",
    "    print(n,\" is composite number\")"
   ]
  },
  {
   "cell_type": "code",
   "execution_count": null,
   "id": "921437e0",
   "metadata": {},
   "outputs": [
    {
     "name": "stdout",
     "output_type": "stream",
     "text": [
      "69\n"
     ]
    }
   ],
   "source": [
    "#12.Second Largest Number\n",
    "a=list(map(int,input().split()))\n",
    "a.sort()\n",
    "n=len(a)\n",
    "for i in range(0,n):\n",
    "    if(i==n-2):\n",
    "        print(a[i])\n",
    "    else:\n",
    "        continue"
   ]
  },
  {
   "cell_type": "code",
   "execution_count": null,
   "id": "1afecb5e",
   "metadata": {},
   "outputs": [
    {
     "name": "stdout",
     "output_type": "stream",
     "text": [
      "650\n"
     ]
    }
   ],
   "source": [
    "#13.Sum of even numbers between 1 and 50\n",
    "n=int(input())\n",
    "sum=0\n",
    "for i in range(1,n+1):\n",
    "    if(i%2==0):\n",
    "        sum=sum+i\n",
    "    else:\n",
    "        continue\n",
    "print(sum)"
   ]
  },
  {
   "cell_type": "code",
   "execution_count": null,
   "id": "1600ac25",
   "metadata": {},
   "outputs": [
    {
     "name": "stdout",
     "output_type": "stream",
     "text": [
      "UpperCase Letters:  2\n",
      "LowerCase Letters:  3\n"
     ]
    }
   ],
   "source": [
    "#14.Count of UpperCase and LowerCase Letters\n",
    "str=input()\n",
    "lc=0\n",
    "uc=0\n",
    "for i in range(0,len(str)):\n",
    "    if(str[i].islower()):\n",
    "        lc=lc+1\n",
    "    else:\n",
    "        uc=uc+1\n",
    "print(\"UpperCase Letters: \",uc)\n",
    "print(\"LowerCase Letters: \",lc)\n"
   ]
  },
  {
   "cell_type": "code",
   "execution_count": null,
   "id": "c55cff88",
   "metadata": {},
   "outputs": [
    {
     "name": "stdout",
     "output_type": "stream",
     "text": [
      "0\n",
      "1\n",
      "1\n",
      "2\n",
      "3\n",
      "5\n",
      "8\n",
      "13\n"
     ]
    }
   ],
   "source": [
    "#15.Fibonacci Series\n",
    "n=int(input())\n",
    "n1=0\n",
    "n2=1\n",
    "n3=0\n",
    "print(n1)\n",
    "print(n2)\n",
    "for i in range(2,n):\n",
    "    n3=n1+n2\n",
    "    print(n3)\n",
    "    n1=n2\n",
    "    n2=n3"
   ]
  },
  {
   "cell_type": "code",
   "execution_count": null,
   "id": "4593ea46",
   "metadata": {},
   "outputs": [
    {
     "name": "stdout",
     "output_type": "stream",
     "text": [
      "Equal\n"
     ]
    }
   ],
   "source": [
    "#16.Anagrams\n",
    "str1=input()\n",
    "str2=input()\n",
    "if(sorted(str1)==sorted(str2)):\n",
    "    print(\"Equal\")\n",
    "else:\n",
    "    print(\"Not Equal\")"
   ]
  },
  {
   "cell_type": "code",
   "execution_count": null,
   "id": "7e9eb593",
   "metadata": {},
   "outputs": [
    {
     "name": "stdout",
     "output_type": "stream",
     "text": [
      "16  is not Perfect Number\n"
     ]
    }
   ],
   "source": [
    "#17.Check whether a number iss perfect or not\n",
    "n=int(input())\n",
    "sum=0\n",
    "for i in range(1,n):\n",
    "    if(n%i==0):\n",
    "        sum=sum+i\n",
    "    else:\n",
    "        continue\n",
    "if(sum==n):\n",
    "    print(n,\" is Perfect Number\")\n",
    "else:\n",
    "    print(n,\" is not Perfect Number\")"
   ]
  },
  {
   "cell_type": "code",
   "execution_count": null,
   "id": "d8eb4037",
   "metadata": {},
   "outputs": [
    {
     "name": "stdout",
     "output_type": "stream",
     "text": [
      "A\n"
     ]
    }
   ],
   "source": [
    "#18.Grades Based on 5 subject marks\n",
    "a=list(map(int,input().split()))\n",
    "sum=0\n",
    "for i in range(0,len(a)):\n",
    "    sum=sum + a[i]\n",
    "avg=(sum/(len(a)*100))*100\n",
    "if(avg>=90 and avg<100):\n",
    "    print(\"A\")\n",
    "elif(avg>=75 and avg<90):\n",
    "    print(\"B\")\n",
    "elif(avg>=50 and avg<75):\n",
    "    print(\"C\")\n",
    "elif(avg<50):\n",
    "    print(\"Fail\")\n",
    "else:\n",
    "    print(\"Invalid Marks\")\n"
   ]
  },
  {
   "cell_type": "code",
   "execution_count": null,
   "id": "eb5446c2",
   "metadata": {},
   "outputs": [
    {
     "name": "stdout",
     "output_type": "stream",
     "text": [
      "2 3 5 7 11 13 17 19 23 29 31 37 41 43 47 53 59 61 67 71 73 79 83 89 97 "
     ]
    }
   ],
   "source": [
    "#19.Prime numbers between 1 and 100\n",
    "n=int(input())\n",
    "for i in range(1,100+1):\n",
    "    c=0\n",
    "    for j in range(1,100+1):\n",
    "        if(i%j==0):\n",
    "            c=c+1\n",
    "    if(c==2):\n",
    "        print(i,end=\" \")"
   ]
  },
  {
   "cell_type": "code",
   "execution_count": 13,
   "id": "3744f699",
   "metadata": {},
   "outputs": [
    {
     "name": "stdout",
     "output_type": "stream",
     "text": [
      "4\n"
     ]
    }
   ],
   "source": [
    "#20.Count No.of words in a sentence\n",
    "str=input()\n",
    "c=1\n",
    "for i in str:\n",
    "    if(i==\" \"):\n",
    "        c=c+1\n",
    "print(c)"
   ]
  },
  {
   "cell_type": "code",
   "execution_count": 14,
   "id": "240ef79b",
   "metadata": {},
   "outputs": [
    {
     "name": "stdout",
     "output_type": "stream",
     "text": [
      "80.0\n"
     ]
    }
   ],
   "source": [
    "#21.Finding Final Ticket Price\n",
    "tp=int(input())\n",
    "age=int(input())\n",
    "sstatus=input()\n",
    "fp=0\n",
    "if(sstatus==\"Yes\" or sstatus==\"yes\"):\n",
    "    fp=tp-tp*0.2\n",
    "elif(age>=60):\n",
    "    fp=tp-tp*0.1\n",
    "else:\n",
    "    fp=tp\n",
    "print(fp)"
   ]
  },
  {
   "cell_type": "code",
   "execution_count": 16,
   "id": "e1938ecc",
   "metadata": {},
   "outputs": [
    {
     "name": "stdout",
     "output_type": "stream",
     "text": [
      "450\n"
     ]
    }
   ],
   "source": [
    "#22.Final Amount to pay for taking product from delivery person\n",
    "cart=int(input())\n",
    "tc=0\n",
    "if(cart>=500):\n",
    "    tc=cart\n",
    "else:\n",
    "    tc=cart+50\n",
    "print(tc)"
   ]
  },
  {
   "cell_type": "code",
   "execution_count": 17,
   "id": "d232fc6b",
   "metadata": {},
   "outputs": [
    {
     "name": "stdout",
     "output_type": "stream",
     "text": [
      "C\n"
     ]
    }
   ],
   "source": [
    "#23.Displaying Grades based on marks\n",
    "marks=int(input())\n",
    "if(marks>=90 and marks<=100):\n",
    "    print(\"A\")\n",
    "elif(marks>=75 and marks<=89):\n",
    "    print(\"B\")\n",
    "elif(marks>=50 and marks<=74):\n",
    "    print(\"C\")\n",
    "elif(marks<50):\n",
    "    print(\"Fail\")\n",
    "else:\n",
    "    print(\"Invalid Marks\")"
   ]
  },
  {
   "cell_type": "code",
   "execution_count": 19,
   "id": "4eb0d730",
   "metadata": {},
   "outputs": [
    {
     "name": "stdout",
     "output_type": "stream",
     "text": [
      "12.5\n"
     ]
    }
   ],
   "source": [
    "#24.Tip Calculator in Restaurant\n",
    "bill=int(input())\n",
    "if(bill<=500):\n",
    "    tip=bill*0.05\n",
    "elif(bill<=100 and bill>500):\n",
    "    tip=bill*0.1\n",
    "else:\n",
    "    tip=bill*0.15\n",
    "print(tip)"
   ]
  },
  {
   "cell_type": "code",
   "execution_count": 20,
   "id": "a858ee9f",
   "metadata": {},
   "outputs": [
    {
     "name": "stdout",
     "output_type": "stream",
     "text": [
      "5900\n"
     ]
    }
   ],
   "source": [
    "#25.Gym Membership plan\n",
    "months=int(input())\n",
    "one_m=months*500\n",
    "six_m=((months//6)*2700)+(months%6)*500\n",
    "twelve_m=((months//12)*5000)+((months//6)*2700)+(months%6)*500\n",
    "plan=min(one_m,six_m,twelve_m)\n",
    "print(plan)"
   ]
  },
  {
   "cell_type": "code",
   "execution_count": 24,
   "id": "c64cb266",
   "metadata": {},
   "outputs": [
    {
     "name": "stdout",
     "output_type": "stream",
     "text": [
      "Not Eligible\n"
     ]
    }
   ],
   "source": [
    "#26.Exam Eligibility\n",
    "tot_classes=int(input())\n",
    "classes_attended=int(input())\n",
    "percentage=(classes_attended/tot_classes)*100\n",
    "if(percentage>=75):\n",
    "    print(\"Eligible\")\n",
    "else:\n",
    "    print(\"Not Eligible\")"
   ]
  },
  {
   "cell_type": "code",
   "execution_count": 26,
   "id": "6ad27b92",
   "metadata": {},
   "outputs": [
    {
     "name": "stdout",
     "output_type": "stream",
     "text": [
      "Successful\n"
     ]
    }
   ],
   "source": [
    "#27.ATM Withdrawl\n",
    "amount=int(input())\n",
    "if(amount%100==0):\n",
    "    print(\"Successful\")\n",
    "else:\n",
    "    print(\"Failed\")"
   ]
  },
  {
   "cell_type": "code",
   "execution_count": 29,
   "id": "7fb6a469",
   "metadata": {},
   "outputs": [
    {
     "name": "stdout",
     "output_type": "stream",
     "text": [
      "It’s cold, wear warm clothes!\n"
     ]
    }
   ],
   "source": [
    "#28.Weather Suggestion\n",
    "temp=int(input())\n",
    "if(temp==35):\n",
    "    print(\"Too hot, stay indoors!\")\n",
    "elif(temp>=20 and temp<35):\n",
    "    print(\"Nice weather, go out!\")\n",
    "elif(temp<20):\n",
    "    print(\"It’s cold, wear warm clothes!\")\n",
    "else:\n",
    "    print(\"Invalid Temp\")"
   ]
  },
  {
   "cell_type": "code",
   "execution_count": 30,
   "id": "4c6cb35e",
   "metadata": {},
   "outputs": [
    {
     "name": "stdout",
     "output_type": "stream",
     "text": [
      "₹50\n"
     ]
    }
   ],
   "source": [
    "#29.Library Fine\n",
    "days_late=int(input())\n",
    "if(days_late>=1 and days_late<=5):\n",
    "    print(\"₹5\")\n",
    "elif(days_late>=6 and days_late<10):\n",
    "    print(\"₹50\")\n",
    "elif(days_late==10):\n",
    "    print(\"₹100\")"
   ]
  },
  {
   "cell_type": "code",
   "execution_count": 31,
   "id": "68c68cbd",
   "metadata": {},
   "outputs": [
    {
     "name": "stdout",
     "output_type": "stream",
     "text": [
      "1050\n"
     ]
    }
   ],
   "source": [
    "#30.Electricity Bill Calculator\n",
    "units=int(input())\n",
    "if(units<=100):\n",
    "    bill=units*5\n",
    "elif(units>=101 and units<=200):\n",
    "    bill=units*7\n",
    "else:\n",
    "    bill=units*10\n",
    "print(bill)"
   ]
  }
 ],
 "metadata": {
  "kernelspec": {
   "display_name": "Python 3",
   "language": "python",
   "name": "python3"
  },
  "language_info": {
   "codemirror_mode": {
    "name": "ipython",
    "version": 3
   },
   "file_extension": ".py",
   "mimetype": "text/x-python",
   "name": "python",
   "nbconvert_exporter": "python",
   "pygments_lexer": "ipython3",
   "version": "3.11.13"
  }
 },
 "nbformat": 4,
 "nbformat_minor": 5
}
